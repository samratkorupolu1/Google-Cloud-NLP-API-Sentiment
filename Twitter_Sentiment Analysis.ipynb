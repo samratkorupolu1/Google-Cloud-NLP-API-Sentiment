{
 "cells": [
  {
   "cell_type": "markdown",
   "metadata": {},
   "source": [
    "# Sentiment Analysis of tweets"
   ]
  },
  {
   "cell_type": "code",
   "execution_count": 3,
   "metadata": {},
   "outputs": [],
   "source": [
    "# pip install tweepy\n",
    "import tweepy\n",
    "import matplotlib.pyplot as plt\n",
    "import seaborn as sns\n",
    "from textblob import TextBlob\n",
    "from textblob.sentiments import NaiveBayesAnalyzer\n",
    "from nltk.sentiment.vader import SentimentIntensityAnalyzer\n",
    "import nltk\n",
    "from string import punctuation\n",
    "from nltk.corpus import stopwords\n",
    "import re\n",
    "import nltk\n",
    "import numpy as np\n",
    "import pandas as pd"
   ]
  },
  {
   "cell_type": "code",
   "execution_count": 4,
   "metadata": {},
   "outputs": [],
   "source": [
    "#nltk.download('stopwords')\n",
    "#nltk.download('wordnet')"
   ]
  },
  {
   "cell_type": "code",
   "execution_count": 5,
   "metadata": {},
   "outputs": [],
   "source": [
    "#nltk.download('vader_lexicon')"
   ]
  },
  {
   "cell_type": "code",
   "execution_count": 6,
   "metadata": {},
   "outputs": [],
   "source": [
    "#Running the python script containing API keys\n",
    "%run C:\\\\Users\\\\korupos\\\\Documents\\\\Sentiment\\\\key.ipynb"
   ]
  },
  {
   "cell_type": "code",
   "execution_count": 7,
   "metadata": {},
   "outputs": [],
   "source": [
    "auth = tweepy.OAuthHandler(consumer_api_key, consumer_api_secret_key)\n",
    "auth.set_access_token(access_token, access_token_secret)\n",
    "api = tweepy.API(auth)\n",
    "api = tweepy.API(auth, wait_on_rate_limit=True, wait_on_rate_limit_notify=True)\n",
    "\n",
    "# The last command prints a message and waits if the rate limit is exceeded\n",
    "# Twitter allows 15 requests per application per 15 minutes"
   ]
  },
  {
   "cell_type": "markdown",
   "metadata": {},
   "source": [
    "## input string"
   ]
  },
  {
   "cell_type": "code",
   "execution_count": 11,
   "metadata": {},
   "outputs": [
    {
     "data": {
      "text/plain": [
       "'USA+fuel'"
      ]
     },
     "execution_count": 11,
     "metadata": {},
     "output_type": "execute_result"
    }
   ],
   "source": [
    "dynamic = \"USA fuel \"\n",
    "dynamic = dynamic.strip()\n",
    "dynamic = dynamic.replace(\" \", \"+\")"
   ]
  },
  {
   "cell_type": "markdown",
   "metadata": {},
   "source": [
    "## scrapping"
   ]
  },
  {
   "cell_type": "code",
   "execution_count": 10,
   "metadata": {},
   "outputs": [
    {
     "name": "stdout",
     "output_type": "stream",
     "text": [
      "RT @TeamAlpha3: What a stuff up in the USA. A population controlled by fear, sprinkled with hate &amp; division. A lethal combination that the…\n",
      "What a stuff up in the USA. A population controlled by fear, sprinkled with hate &amp; division. A lethal combination that the average IQ cannot comprehend. Illegal immigrants enter the country, fuel supplies are cut, industry is shut down. National &amp; global security is compromised.\n",
      "RT @PondSagg: gas lines forming up and down east coast on major foreign hack shutting down heart of a USA fuel system\n",
      "\n",
      "@FBI @CIA @NSAGov co…\n",
      "RT @GingerGano: Throughout the entire Trump Presidency we had an abundance of fuel and low gas prices along the entire east coast. It liter…\n",
      "Gas stations run dry and motorists queue for fuel in US, as ransomware attack on pipeline leads to shortages (VIDEOS) — RT USA News https://t.co/3sMNJFuSnD\n",
      "This is all expected. Nothing surprising about CCP (former USA) pushing CCP’s rare minerals for fuel rather than fossil. https://t.co/I1Z8ApVlL5\n",
      "@scarletdawndee This is all expected. Nothing surprising about CCP (former USA) pushing CCP’s rare minerals for fuel rather than fossil.\n",
      "RT @Gma2Iowa: A cyber attack on USA fuel line, w/an emergency declaration in 17 states. What was the FBI, CIA, Homeland Security doing thes…\n",
      "@YALiberty The S&amp;P 500 is still up 9% since Election Day.\n",
      "Gas supply is only down because of a hack to the entire SE USA fuel supply.\n",
      "Inflation is going up because the economy is actually reopening faster than suppliers can meet demand.\n",
      "Trump added $6.7 TRILLION to the National Debt.\n",
      "RT @staunovo: U.S. energy secretary: No need to hoard fuel after pipeline outage #oott https://t.co/4QAHgU0OHQ\n"
     ]
    }
   ],
   "source": [
    "for tweet in tweepy.Cursor(api.search, q=dynamic, lang='en', tweet_mode=\"extended\").items(10):\n",
    "    print(tweet.full_text)"
   ]
  },
  {
   "cell_type": "code",
   "execution_count": 31,
   "metadata": {},
   "outputs": [
    {
     "data": {
      "text/plain": [
       "(1000, 6)"
      ]
     },
     "execution_count": 31,
     "metadata": {},
     "output_type": "execute_result"
    }
   ],
   "source": [
    "df = pd.DataFrame(columns=['screen_name', 'name', 'date_time', 'location', 'text', 'url'])\n",
    "for tweet in tweepy.Cursor(api.search, q=dynamic, lang='en', tweet_mode=\"extended\").items(1000):\n",
    "    df = df.append(pd.Series([tweet.user.screen_name, tweet.user.name, tweet.created_at, tweet.user.location, tweet.full_text, f\"https://twitter.com/{tweet.user.screen_name}/status/{tweet.id}\"], index=df.columns), ignore_index=True)\n",
    "df.shape"
   ]
  },
  {
   "cell_type": "code",
   "execution_count": 32,
   "metadata": {},
   "outputs": [
    {
     "data": {
      "text/html": [
       "<div>\n",
       "<style scoped>\n",
       "    .dataframe tbody tr th:only-of-type {\n",
       "        vertical-align: middle;\n",
       "    }\n",
       "\n",
       "    .dataframe tbody tr th {\n",
       "        vertical-align: top;\n",
       "    }\n",
       "\n",
       "    .dataframe thead th {\n",
       "        text-align: right;\n",
       "    }\n",
       "</style>\n",
       "<table border=\"1\" class=\"dataframe\">\n",
       "  <thead>\n",
       "    <tr style=\"text-align: right;\">\n",
       "      <th></th>\n",
       "      <th>screen_name</th>\n",
       "      <th>name</th>\n",
       "      <th>date_time</th>\n",
       "      <th>location</th>\n",
       "      <th>text</th>\n",
       "      <th>url</th>\n",
       "    </tr>\n",
       "  </thead>\n",
       "  <tbody>\n",
       "    <tr>\n",
       "      <th>0</th>\n",
       "      <td>txpeckii</td>\n",
       "      <td>Tom Peck</td>\n",
       "      <td>2021-05-11 14:21:13</td>\n",
       "      <td></td>\n",
       "      <td>RT @TheGreenKnight: Boldest of blood. Wildest ...</td>\n",
       "      <td>https://twitter.com/txpeckii/status/1392122627...</td>\n",
       "    </tr>\n",
       "    <tr>\n",
       "      <th>1</th>\n",
       "      <td>vrajesh_</td>\n",
       "      <td>Vrajesh Sukhadiya</td>\n",
       "      <td>2021-05-11 14:21:13</td>\n",
       "      <td>Ahmedabad,INDIA</td>\n",
       "      <td>#vaccinationfor18plus #Vaccinateindia \\nSometh...</td>\n",
       "      <td>https://twitter.com/vrajesh_/status/1392122626...</td>\n",
       "    </tr>\n",
       "    <tr>\n",
       "      <th>2</th>\n",
       "      <td>Anup_Patel</td>\n",
       "      <td>A_P</td>\n",
       "      <td>2021-05-11 14:21:12</td>\n",
       "      <td>Chapel Hill, NC</td>\n",
       "      <td>RT @JabariDavisNBA: So many incredible scenes ...</td>\n",
       "      <td>https://twitter.com/Anup_Patel/status/13921226...</td>\n",
       "    </tr>\n",
       "    <tr>\n",
       "      <th>3</th>\n",
       "      <td>thriddas</td>\n",
       "      <td>Siddarth Raman</td>\n",
       "      <td>2021-05-11 14:21:11</td>\n",
       "      <td>Mumbai</td>\n",
       "      <td>RT @Sahityik_Rajesh: Any Home delivery of Food...</td>\n",
       "      <td>https://twitter.com/thriddas/status/1392122618...</td>\n",
       "    </tr>\n",
       "    <tr>\n",
       "      <th>4</th>\n",
       "      <td>ThaRealSamIO</td>\n",
       "      <td>Sam O (he/him) #blm #GetVaxxed</td>\n",
       "      <td>2021-05-11 14:21:11</td>\n",
       "      <td>McDonough, GA</td>\n",
       "      <td>RT @BudrykZack: They've been trying to get mod...</td>\n",
       "      <td>https://twitter.com/ThaRealSamIO/status/139212...</td>\n",
       "    </tr>\n",
       "    <tr>\n",
       "      <th>5</th>\n",
       "      <td>TerryB28937065</td>\n",
       "      <td>Terry Brough #PeaceJusticeSocialism ✊</td>\n",
       "      <td>2021-05-11 14:21:10</td>\n",
       "      <td>St Helens. Merseyside. UK</td>\n",
       "      <td>The UK's voting system is already broken but P...</td>\n",
       "      <td>https://twitter.com/TerryB28937065/status/1392...</td>\n",
       "    </tr>\n",
       "    <tr>\n",
       "      <th>6</th>\n",
       "      <td>ayush_patel_001</td>\n",
       "      <td>Ayush patel</td>\n",
       "      <td>2021-05-11 14:21:10</td>\n",
       "      <td>हिन्दुस्थान</td>\n",
       "      <td>@IDF well done Israel 🇮🇱 ❤ 🇮🇳</td>\n",
       "      <td>https://twitter.com/ayush_patel_001/status/139...</td>\n",
       "    </tr>\n",
       "    <tr>\n",
       "      <th>7</th>\n",
       "      <td>vapokracker</td>\n",
       "      <td>.:.</td>\n",
       "      <td>2021-05-11 14:21:09</td>\n",
       "      <td></td>\n",
       "      <td>RT @TheGreenKnight: Boldest of blood. Wildest ...</td>\n",
       "      <td>https://twitter.com/vapokracker/status/1392122...</td>\n",
       "    </tr>\n",
       "    <tr>\n",
       "      <th>8</th>\n",
       "      <td>Jorge_LBX</td>\n",
       "      <td>Shadowlord 🎼</td>\n",
       "      <td>2021-05-11 14:21:07</td>\n",
       "      <td>Sanlúcar de Barrameda/Sevilla</td>\n",
       "      <td>RT @A24: Hot summer knights are just around th...</td>\n",
       "      <td>https://twitter.com/Jorge_LBX/status/139212260...</td>\n",
       "    </tr>\n",
       "    <tr>\n",
       "      <th>9</th>\n",
       "      <td>AaronSheehan</td>\n",
       "      <td>Aaron Sheehan</td>\n",
       "      <td>2021-05-11 14:21:06</td>\n",
       "      <td>Springfield, MO</td>\n",
       "      <td>@HannahGraceLong Dev Patel is never late, nor ...</td>\n",
       "      <td>https://twitter.com/AaronSheehan/status/139212...</td>\n",
       "    </tr>\n",
       "  </tbody>\n",
       "</table>\n",
       "</div>"
      ],
      "text/plain": [
       "       screen_name                                   name           date_time  \\\n",
       "0         txpeckii                               Tom Peck 2021-05-11 14:21:13   \n",
       "1         vrajesh_                      Vrajesh Sukhadiya 2021-05-11 14:21:13   \n",
       "2       Anup_Patel                                    A_P 2021-05-11 14:21:12   \n",
       "3         thriddas                         Siddarth Raman 2021-05-11 14:21:11   \n",
       "4     ThaRealSamIO         Sam O (he/him) #blm #GetVaxxed 2021-05-11 14:21:11   \n",
       "5   TerryB28937065  Terry Brough #PeaceJusticeSocialism ✊ 2021-05-11 14:21:10   \n",
       "6  ayush_patel_001                            Ayush patel 2021-05-11 14:21:10   \n",
       "7      vapokracker                                    .:. 2021-05-11 14:21:09   \n",
       "8        Jorge_LBX                           Shadowlord 🎼 2021-05-11 14:21:07   \n",
       "9     AaronSheehan                          Aaron Sheehan 2021-05-11 14:21:06   \n",
       "\n",
       "                        location  \\\n",
       "0                                  \n",
       "1                Ahmedabad,INDIA   \n",
       "2                Chapel Hill, NC   \n",
       "3                         Mumbai   \n",
       "4                  McDonough, GA   \n",
       "5      St Helens. Merseyside. UK   \n",
       "6                   हिन्दुस्थान    \n",
       "7                                  \n",
       "8  Sanlúcar de Barrameda/Sevilla   \n",
       "9                Springfield, MO   \n",
       "\n",
       "                                                text  \\\n",
       "0  RT @TheGreenKnight: Boldest of blood. Wildest ...   \n",
       "1  #vaccinationfor18plus #Vaccinateindia \\nSometh...   \n",
       "2  RT @JabariDavisNBA: So many incredible scenes ...   \n",
       "3  RT @Sahityik_Rajesh: Any Home delivery of Food...   \n",
       "4  RT @BudrykZack: They've been trying to get mod...   \n",
       "5  The UK's voting system is already broken but P...   \n",
       "6                      @IDF well done Israel 🇮🇱 ❤ 🇮🇳   \n",
       "7  RT @TheGreenKnight: Boldest of blood. Wildest ...   \n",
       "8  RT @A24: Hot summer knights are just around th...   \n",
       "9  @HannahGraceLong Dev Patel is never late, nor ...   \n",
       "\n",
       "                                                 url  \n",
       "0  https://twitter.com/txpeckii/status/1392122627...  \n",
       "1  https://twitter.com/vrajesh_/status/1392122626...  \n",
       "2  https://twitter.com/Anup_Patel/status/13921226...  \n",
       "3  https://twitter.com/thriddas/status/1392122618...  \n",
       "4  https://twitter.com/ThaRealSamIO/status/139212...  \n",
       "5  https://twitter.com/TerryB28937065/status/1392...  \n",
       "6  https://twitter.com/ayush_patel_001/status/139...  \n",
       "7  https://twitter.com/vapokracker/status/1392122...  \n",
       "8  https://twitter.com/Jorge_LBX/status/139212260...  \n",
       "9  https://twitter.com/AaronSheehan/status/139212...  "
      ]
     },
     "execution_count": 32,
     "metadata": {},
     "output_type": "execute_result"
    }
   ],
   "source": [
    "df.head(10)"
   ]
  },
  {
   "cell_type": "code",
   "execution_count": 10,
   "metadata": {},
   "outputs": [],
   "source": [
    "# for tweet in tweepy.Cursor(api.search, q='sample', count=10,tweet_mode='extended').items():\n",
    "#     print(f\"https://twitter.com/{tweet.user.screen_name}/status/{tweet.id}\")"
   ]
  },
  {
   "cell_type": "markdown",
   "metadata": {
    "scrolled": true
   },
   "source": [
    "## Tweet Cleaning"
   ]
  },
  {
   "cell_type": "code",
   "execution_count": 33,
   "metadata": {},
   "outputs": [],
   "source": [
    "from nltk.tokenize import TweetTokenizer\n",
    "tokenizer = TweetTokenizer()\n",
    "tokenized_tweets = [tokenizer.tokenize(t) for t in df.text]"
   ]
  },
  {
   "cell_type": "code",
   "execution_count": 34,
   "metadata": {},
   "outputs": [],
   "source": [
    "import re\n",
    "from nltk.corpus import stopwords\n",
    "stop_words = stopwords.words(\"english\")\n",
    "stop_words.extend([\"&amp;\", \"&gt;\", \"&lt;\"])\n",
    "from nltk.stem import WordNetLemmatizer\n",
    "lemmatizer = WordNetLemmatizer()"
   ]
  },
  {
   "cell_type": "code",
   "execution_count": 35,
   "metadata": {},
   "outputs": [],
   "source": [
    "clean_text = []\n",
    "for tweet in tokenized_tweets:\n",
    "    thandles = []\n",
    "    thashtags = []\n",
    "    joined_words = \" \"\n",
    "    words = [w.lower() for w in tweet if len(w)>2 and w not in stop_words]\n",
    "    thandles = [w for w in words if re.search(\"^@\\w+\", w)]\n",
    "    thashtags = [w for w in words if re.search(\"^#\\w+\", w)]\n",
    "    words = [w for w in words if w not in thandles and w not in thashtags]\n",
    "    words = [lemmatizer.lemmatize(w) for w in words]\n",
    "    joined_words = joined_words.join(words)\n",
    "    clean_text.append(joined_words)"
   ]
  },
  {
   "cell_type": "code",
   "execution_count": 36,
   "metadata": {},
   "outputs": [],
   "source": [
    "df['clean_text'] = clean_text"
   ]
  },
  {
   "cell_type": "code",
   "execution_count": 37,
   "metadata": {},
   "outputs": [
    {
     "data": {
      "text/html": [
       "<div>\n",
       "<style scoped>\n",
       "    .dataframe tbody tr th:only-of-type {\n",
       "        vertical-align: middle;\n",
       "    }\n",
       "\n",
       "    .dataframe tbody tr th {\n",
       "        vertical-align: top;\n",
       "    }\n",
       "\n",
       "    .dataframe thead th {\n",
       "        text-align: right;\n",
       "    }\n",
       "</style>\n",
       "<table border=\"1\" class=\"dataframe\">\n",
       "  <thead>\n",
       "    <tr style=\"text-align: right;\">\n",
       "      <th></th>\n",
       "      <th>clean_text</th>\n",
       "      <th>url</th>\n",
       "    </tr>\n",
       "  </thead>\n",
       "  <tbody>\n",
       "    <tr>\n",
       "      <th>0</th>\n",
       "      <td>boldest blood wildest heart watch new trailer ...</td>\n",
       "      <td>https://twitter.com/txpeckii/status/1392122627...</td>\n",
       "    </tr>\n",
       "    <tr>\n",
       "      <th>1</th>\n",
       "      <td>something happened wrong booking appointment s...</td>\n",
       "      <td>https://twitter.com/vrajesh_/status/1392122626...</td>\n",
       "    </tr>\n",
       "    <tr>\n",
       "      <th>2</th>\n",
       "      <td>many incredible scene throughout the wire woul...</td>\n",
       "      <td>https://twitter.com/Anup_Patel/status/13921226...</td>\n",
       "    </tr>\n",
       "    <tr>\n",
       "      <th>3</th>\n",
       "      <td>any home delivery food for close friend ahmeda...</td>\n",
       "      <td>https://twitter.com/thriddas/status/1392122618...</td>\n",
       "    </tr>\n",
       "    <tr>\n",
       "      <th>4</th>\n",
       "      <td>they've trying get modern audience give shit a...</td>\n",
       "      <td>https://twitter.com/ThaRealSamIO/status/139212...</td>\n",
       "    </tr>\n",
       "    <tr>\n",
       "      <th>5</th>\n",
       "      <td>the uk's voting system already broken priti pa...</td>\n",
       "      <td>https://twitter.com/TerryB28937065/status/1392...</td>\n",
       "    </tr>\n",
       "    <tr>\n",
       "      <th>6</th>\n",
       "      <td>well done israel</td>\n",
       "      <td>https://twitter.com/ayush_patel_001/status/139...</td>\n",
       "    </tr>\n",
       "    <tr>\n",
       "      <th>7</th>\n",
       "      <td>boldest blood wildest heart watch new trailer ...</td>\n",
       "      <td>https://twitter.com/vapokracker/status/1392122...</td>\n",
       "    </tr>\n",
       "    <tr>\n",
       "      <th>8</th>\n",
       "      <td>hot summer knight around corner watch new trai...</td>\n",
       "      <td>https://twitter.com/Jorge_LBX/status/139212260...</td>\n",
       "    </tr>\n",
       "    <tr>\n",
       "      <th>9</th>\n",
       "      <td>dev patel never late early always arrives prec...</td>\n",
       "      <td>https://twitter.com/AaronSheehan/status/139212...</td>\n",
       "    </tr>\n",
       "  </tbody>\n",
       "</table>\n",
       "</div>"
      ],
      "text/plain": [
       "                                          clean_text  \\\n",
       "0  boldest blood wildest heart watch new trailer ...   \n",
       "1  something happened wrong booking appointment s...   \n",
       "2  many incredible scene throughout the wire woul...   \n",
       "3  any home delivery food for close friend ahmeda...   \n",
       "4  they've trying get modern audience give shit a...   \n",
       "5  the uk's voting system already broken priti pa...   \n",
       "6                                   well done israel   \n",
       "7  boldest blood wildest heart watch new trailer ...   \n",
       "8  hot summer knight around corner watch new trai...   \n",
       "9  dev patel never late early always arrives prec...   \n",
       "\n",
       "                                                 url  \n",
       "0  https://twitter.com/txpeckii/status/1392122627...  \n",
       "1  https://twitter.com/vrajesh_/status/1392122626...  \n",
       "2  https://twitter.com/Anup_Patel/status/13921226...  \n",
       "3  https://twitter.com/thriddas/status/1392122618...  \n",
       "4  https://twitter.com/ThaRealSamIO/status/139212...  \n",
       "5  https://twitter.com/TerryB28937065/status/1392...  \n",
       "6  https://twitter.com/ayush_patel_001/status/139...  \n",
       "7  https://twitter.com/vapokracker/status/1392122...  \n",
       "8  https://twitter.com/Jorge_LBX/status/139212260...  \n",
       "9  https://twitter.com/AaronSheehan/status/139212...  "
      ]
     },
     "execution_count": 37,
     "metadata": {},
     "output_type": "execute_result"
    }
   ],
   "source": [
    "df[['clean_text','url']].head(10)"
   ]
  },
  {
   "cell_type": "markdown",
   "metadata": {},
   "source": [
    "## Model 1 : GCP NLP API"
   ]
  },
  {
   "cell_type": "code",
   "execution_count": 38,
   "metadata": {},
   "outputs": [],
   "source": [
    "import os\n",
    "os.environ[\"GOOGLE_APPLICATION_CREDENTIALS\"]= \"C:\\\\Users\\\\korupos\\\\Documents\\\\Sentiment\\\\senti-311518-1b03476e63cd.json\""
   ]
  },
  {
   "cell_type": "code",
   "execution_count": 39,
   "metadata": {},
   "outputs": [],
   "source": [
    "# Imports the Google Cloud client library\n",
    "from google.cloud import language_v1"
   ]
  },
  {
   "cell_type": "code",
   "execution_count": 40,
   "metadata": {},
   "outputs": [],
   "source": [
    "# Instantiates a client\n",
    "client = language_v1.LanguageServiceClient()"
   ]
  },
  {
   "cell_type": "code",
   "execution_count": null,
   "metadata": {},
   "outputs": [],
   "source": [
    "senti = []\n",
    "for i in df['clean_text']:\n",
    "    text = i\n",
    "    document = language_v1.Document(content=text, type_=language_v1.Document.Type.PLAIN_TEXT)\n",
    "    try:\n",
    "        sentiment = client.analyze_sentiment(request={'document': document}).document_sentiment\n",
    "    except:\n",
    "        sentiment.score = 0.000\n",
    "    senti.append(round(sentiment.score, 2))"
   ]
  },
  {
   "cell_type": "code",
   "execution_count": 42,
   "metadata": {},
   "outputs": [],
   "source": [
    "df['sentiment_score'] = senti"
   ]
  },
  {
   "cell_type": "markdown",
   "metadata": {},
   "source": [
    "## Saved to csv"
   ]
  },
  {
   "cell_type": "code",
   "execution_count": 43,
   "metadata": {},
   "outputs": [],
   "source": [
    "df.to_csv('1000_tweets.csv')"
   ]
  },
  {
   "cell_type": "code",
   "execution_count": 44,
   "metadata": {},
   "outputs": [],
   "source": [
    "pos = df[df.sentiment_score > 0]\n",
    "neg = df[df.sentiment_score < 0]\n",
    "neu = df[df.sentiment_score == 0]"
   ]
  },
  {
   "cell_type": "markdown",
   "metadata": {},
   "source": [
    "## Results"
   ]
  },
  {
   "cell_type": "code",
   "execution_count": 45,
   "metadata": {},
   "outputs": [
    {
     "data": {
      "image/png": "[encoded data removed]",
      "text/plain": [
       "<Figure size 1440x720 with 1 Axes>"
      ]
     },
     "metadata": {},
     "output_type": "display_data"
    }
   ],
   "source": [
    "import matplotlib.pyplot as plt\n",
    "\n",
    "# Pie chart, where the slices will be ordered and plotted counter-clockwise:\n",
    "labels = 'Pos', 'Neg', 'Neu'\n",
    "sizes = [len(pos), len(neg), len(neu)]\n",
    "colors = 'green','brown','grey'\n",
    "\n",
    "explode = (0, 0.05, 0)  # only \"explode\" the 2nd slice (i.e. 'Hogs')\n",
    "\n",
    "fig1, ax1 = plt.subplots(figsize=(20,10))\n",
    "_, _, autopcts = ax1.pie(sizes, explode=explode, labels=labels, colors = colors, autopct='%1.1f%%', shadow=True, startangle=90,\n",
    "       textprops={'fontsize': 20})\n",
    "ax1.axis('equal')  # Equal aspect ratio ensures that pie is drawn as a circle.\n",
    "plt.setp(autopcts, **{'color':'white', 'weight':'bold', 'fontsize':48})\n",
    "ax1.set_title('Sentiment', fontdict={'fontsize': 30})\n",
    "\n",
    "plt.show()"
   ]
  },
  {
   "cell_type": "code",
   "execution_count": 46,
   "metadata": {},
   "outputs": [
    {
     "name": "stderr",
     "output_type": "stream",
     "text": [
      "<ipython-input-46-17f8801a99d5>:1: SettingWithCopyWarning: \n",
      "A value is trying to be set on a copy of a slice from a DataFrame\n",
      "\n",
      "See the caveats in the documentation: https://pandas.pydata.org/pandas-docs/stable/user_guide/indexing.html#returning-a-view-versus-a-copy\n",
      "  pos.sort_values(by=['sentiment_score'], inplace=True, ascending = False)\n",
      "<ipython-input-46-17f8801a99d5>:2: SettingWithCopyWarning: \n",
      "A value is trying to be set on a copy of a slice from a DataFrame\n",
      "\n",
      "See the caveats in the documentation: https://pandas.pydata.org/pandas-docs/stable/user_guide/indexing.html#returning-a-view-versus-a-copy\n",
      "  neg.sort_values(by=['sentiment_score'], inplace=True)\n"
     ]
    }
   ],
   "source": [
    "pos.sort_values(by=['sentiment_score'], inplace=True, ascending = False)\n",
    "neg.sort_values(by=['sentiment_score'], inplace=True)"
   ]
  },
  {
   "cell_type": "code",
   "execution_count": 47,
   "metadata": {},
   "outputs": [
    {
     "data": {
      "text/html": [
       "<div>\n",
       "<style scoped>\n",
       "    .dataframe tbody tr th:only-of-type {\n",
       "        vertical-align: middle;\n",
       "    }\n",
       "\n",
       "    .dataframe tbody tr th {\n",
       "        vertical-align: top;\n",
       "    }\n",
       "\n",
       "    .dataframe thead th {\n",
       "        text-align: right;\n",
       "    }\n",
       "</style>\n",
       "<table border=\"1\" class=\"dataframe\">\n",
       "  <thead>\n",
       "    <tr style=\"text-align: right;\">\n",
       "      <th></th>\n",
       "      <th>clean_text</th>\n",
       "      <th>sentiment_score</th>\n",
       "    </tr>\n",
       "  </thead>\n",
       "  <tbody>\n",
       "    <tr>\n",
       "      <th>726</th>\n",
       "      <td>this look spectacular dev patel fantastic scre...</td>\n",
       "      <td>0.9</td>\n",
       "    </tr>\n",
       "    <tr>\n",
       "      <th>544</th>\n",
       "      <td>this great job something vital london recovery...</td>\n",
       "      <td>0.9</td>\n",
       "    </tr>\n",
       "    <tr>\n",
       "      <th>912</th>\n",
       "      <td>beautiful</td>\n",
       "      <td>0.9</td>\n",
       "    </tr>\n",
       "    <tr>\n",
       "      <th>574</th>\n",
       "      <td>happy see dev patel winning https://t.co/wgnat...</td>\n",
       "      <td>0.9</td>\n",
       "    </tr>\n",
       "    <tr>\n",
       "      <th>922</th>\n",
       "      <td>this look fabulous dev patel directed david lo...</td>\n",
       "      <td>0.9</td>\n",
       "    </tr>\n",
       "    <tr>\n",
       "      <th>686</th>\n",
       "      <td>the green knight trailer show dev patel's brea...</td>\n",
       "      <td>0.9</td>\n",
       "    </tr>\n",
       "    <tr>\n",
       "      <th>468</th>\n",
       "      <td>something dev patel stunning scenery backdrop ...</td>\n",
       "      <td>0.9</td>\n",
       "    </tr>\n",
       "    <tr>\n",
       "      <th>567</th>\n",
       "      <td>good evening mam big fan get</td>\n",
       "      <td>0.9</td>\n",
       "    </tr>\n",
       "    <tr>\n",
       "      <th>385</th>\n",
       "      <td>very excited one fav actor dev patel https://t...</td>\n",
       "      <td>0.9</td>\n",
       "    </tr>\n",
       "    <tr>\n",
       "      <th>828</th>\n",
       "      <td>crypto currency adoption boost good work keep ...</td>\n",
       "      <td>0.9</td>\n",
       "    </tr>\n",
       "  </tbody>\n",
       "</table>\n",
       "</div>"
      ],
      "text/plain": [
       "                                            clean_text  sentiment_score\n",
       "726  this look spectacular dev patel fantastic scre...              0.9\n",
       "544  this great job something vital london recovery...              0.9\n",
       "912                                          beautiful              0.9\n",
       "574  happy see dev patel winning https://t.co/wgnat...              0.9\n",
       "922  this look fabulous dev patel directed david lo...              0.9\n",
       "686  the green knight trailer show dev patel's brea...              0.9\n",
       "468  something dev patel stunning scenery backdrop ...              0.9\n",
       "567                       good evening mam big fan get              0.9\n",
       "385  very excited one fav actor dev patel https://t...              0.9\n",
       "828  crypto currency adoption boost good work keep ...              0.9"
      ]
     },
     "execution_count": 47,
     "metadata": {},
     "output_type": "execute_result"
    }
   ],
   "source": [
    "pos[['clean_text', 'sentiment_score']].head(10)"
   ]
  },
  {
   "cell_type": "code",
   "execution_count": 48,
   "metadata": {},
   "outputs": [
    {
     "data": {
      "text/html": [
       "<div>\n",
       "<style scoped>\n",
       "    .dataframe tbody tr th:only-of-type {\n",
       "        vertical-align: middle;\n",
       "    }\n",
       "\n",
       "    .dataframe tbody tr th {\n",
       "        vertical-align: top;\n",
       "    }\n",
       "\n",
       "    .dataframe thead th {\n",
       "        text-align: right;\n",
       "    }\n",
       "</style>\n",
       "<table border=\"1\" class=\"dataframe\">\n",
       "  <thead>\n",
       "    <tr style=\"text-align: right;\">\n",
       "      <th></th>\n",
       "      <th>clean_text</th>\n",
       "      <th>sentiment_score</th>\n",
       "    </tr>\n",
       "  </thead>\n",
       "  <tbody>\n",
       "    <tr>\n",
       "      <th>404</th>\n",
       "      <td>crime falling utter bullshit the street never ...</td>\n",
       "      <td>-0.9</td>\n",
       "    </tr>\n",
       "    <tr>\n",
       "      <th>95</th>\n",
       "      <td>hypocrisy</td>\n",
       "      <td>-0.9</td>\n",
       "    </tr>\n",
       "    <tr>\n",
       "      <th>285</th>\n",
       "      <td>you joking right</td>\n",
       "      <td>-0.8</td>\n",
       "    </tr>\n",
       "    <tr>\n",
       "      <th>175</th>\n",
       "      <td>patel seems keen fight small time criminal see...</td>\n",
       "      <td>-0.8</td>\n",
       "    </tr>\n",
       "    <tr>\n",
       "      <th>511</th>\n",
       "      <td>patel seems keen fight small time criminal see...</td>\n",
       "      <td>-0.8</td>\n",
       "    </tr>\n",
       "    <tr>\n",
       "      <th>600</th>\n",
       "      <td>patel seems keen fight small time criminal see...</td>\n",
       "      <td>-0.8</td>\n",
       "    </tr>\n",
       "    <tr>\n",
       "      <th>984</th>\n",
       "      <td>today queen's speech announce yet another immi...</td>\n",
       "      <td>-0.8</td>\n",
       "    </tr>\n",
       "    <tr>\n",
       "      <th>148</th>\n",
       "      <td>seized oxygen concentrators business offence w...</td>\n",
       "      <td>-0.8</td>\n",
       "    </tr>\n",
       "    <tr>\n",
       "      <th>137</th>\n",
       "      <td>patel seems keen fight small time criminal see...</td>\n",
       "      <td>-0.8</td>\n",
       "    </tr>\n",
       "    <tr>\n",
       "      <th>436</th>\n",
       "      <td>patel seems keen fight small time criminal see...</td>\n",
       "      <td>-0.8</td>\n",
       "    </tr>\n",
       "  </tbody>\n",
       "</table>\n",
       "</div>"
      ],
      "text/plain": [
       "                                            clean_text  sentiment_score\n",
       "404  crime falling utter bullshit the street never ...             -0.9\n",
       "95                                           hypocrisy             -0.9\n",
       "285                                   you joking right             -0.8\n",
       "175  patel seems keen fight small time criminal see...             -0.8\n",
       "511  patel seems keen fight small time criminal see...             -0.8\n",
       "600  patel seems keen fight small time criminal see...             -0.8\n",
       "984  today queen's speech announce yet another immi...             -0.8\n",
       "148  seized oxygen concentrators business offence w...             -0.8\n",
       "137  patel seems keen fight small time criminal see...             -0.8\n",
       "436  patel seems keen fight small time criminal see...             -0.8"
      ]
     },
     "execution_count": 48,
     "metadata": {},
     "output_type": "execute_result"
    }
   ],
   "source": [
    "neg[['clean_text', 'sentiment_score']].head(10)"
   ]
  },
  {
   "cell_type": "markdown",
   "metadata": {},
   "source": [
    "## Tweet Distribution"
   ]
  },
  {
   "cell_type": "code",
   "execution_count": 49,
   "metadata": {},
   "outputs": [
    {
     "name": "stdout",
     "output_type": "stream",
     "text": [
      "Model 1 : GCP\n"
     ]
    },
    {
     "data": {
      "image/png": "[encoded data removed]",
      "text/plain": [
       "<Figure size 432x288 with 1 Axes>"
      ]
     },
     "metadata": {
      "needs_background": "light"
     },
     "output_type": "display_data"
    },
    {
     "name": "stdout",
     "output_type": "stream",
     "text": [
      "Total Tweets : 1000\n",
      "Neutral Tweets : 111\n",
      "Positive Tweets : 724\n",
      "Negative Tweets : 165\n"
     ]
    }
   ],
   "source": [
    "print('Model 1 : GCP')\n",
    "df['sentiment_score'].hist(bins=20)\n",
    "plt.title('Sentiment Histogram')\n",
    "plt.xlabel('Sentiment scores by GCP NLP')\n",
    "plt.show()\n",
    "print('Total Tweets : ' + str(len(df)))\n",
    "print('Neutral Tweets : ' + str((df['sentiment_score'] == 0).sum()))\n",
    "print('Positive Tweets : ' + str((df['sentiment_score'] > 0).sum()))\n",
    "print('Negative Tweets : ' + str((df['sentiment_score'] < 0).sum()))"
   ]
  },
  {
   "cell_type": "code",
   "execution_count": null,
   "metadata": {},
   "outputs": [],
   "source": []
  },
  {
   "cell_type": "code",
   "execution_count": null,
   "metadata": {},
   "outputs": [],
   "source": []
  },
  {
   "cell_type": "code",
   "execution_count": null,
   "metadata": {},
   "outputs": [],
   "source": []
  },
  {
   "cell_type": "code",
   "execution_count": null,
   "metadata": {},
   "outputs": [],
   "source": []
  },
  {
   "cell_type": "code",
   "execution_count": null,
   "metadata": {},
   "outputs": [],
   "source": []
  },
  {
   "cell_type": "markdown",
   "metadata": {},
   "source": [
    "# Ignore below"
   ]
  },
  {
   "cell_type": "markdown",
   "metadata": {},
   "source": [
    "## Cleaning of tweet corpus"
   ]
  },
  {
   "cell_type": "code",
   "execution_count": 25,
   "metadata": {},
   "outputs": [],
   "source": [
    "# blobs = []                #This list holds the cleaned tweets\n",
    "\n",
    "# for i in range(len(df)):\n",
    "#     tweet = df['text'][i]\n",
    "#     tweet = tweet.strip(punctuation).lower()\n",
    "#     tweet = re.sub(r'http\\S+', ' ', tweet)\n",
    "#     tweet = re.sub(r'@\\S+', ' ', tweet)\n",
    "#     tweet = re.sub(r'#', '', tweet)\n",
    "#     tweet = re.sub(r'[^a-z]+', ' ', tweet)\n",
    "#     tweet = re.sub(r'rt', ' ', tweet)\n",
    "    \n",
    "#     blobs.append(tweet)"
   ]
  },
  {
   "cell_type": "markdown",
   "metadata": {},
   "source": [
    "## Model 2 : TextBlob"
   ]
  },
  {
   "cell_type": "code",
   "execution_count": 26,
   "metadata": {},
   "outputs": [],
   "source": [
    "# polarity = []\n",
    "# #subjectivity = []\n",
    "\n",
    "# for i in range(len(blobs)):\n",
    "#     xyz = TextBlob(blobs[i])\n",
    "#     polarity.append(xyz.sentiment.polarity)\n",
    "# #    subjectivity.append(xyz.sentiment.subjectivity)"
   ]
  },
  {
   "cell_type": "code",
   "execution_count": 27,
   "metadata": {},
   "outputs": [],
   "source": [
    "# df['TextBlob_score'] = polarity\n",
    "# #df['subjectivity'] = subjectivity"
   ]
  },
  {
   "cell_type": "code",
   "execution_count": 29,
   "metadata": {
    "scrolled": true
   },
   "outputs": [
    {
     "data": {
      "text/plain": [
       "0.07414199775128084"
      ]
     },
     "execution_count": 29,
     "metadata": {},
     "output_type": "execute_result"
    }
   ],
   "source": [
    "# df['TextBlob_score'].mean()"
   ]
  },
  {
   "cell_type": "markdown",
   "metadata": {},
   "source": [
    "## Model 3 : Vader"
   ]
  },
  {
   "cell_type": "code",
   "execution_count": 30,
   "metadata": {
    "scrolled": true
   },
   "outputs": [],
   "source": [
    "# analyzer = SentimentIntensityAnalyzer()\n",
    "# sentiment = {}\n",
    "# pol = [0]*len(df)\n",
    "    \n",
    "# for i in range(len(df)):\n",
    "#     tweet = df['text'][i]\n",
    "#     sentiment[i] = analyzer.polarity_scores(tweet)\n",
    "#     pol[i] = sentiment[i]['compound']\n",
    "# df['Vader_score'] = pol"
   ]
  },
  {
   "cell_type": "markdown",
   "metadata": {},
   "source": [
    "## Results"
   ]
  },
  {
   "cell_type": "code",
   "execution_count": 35,
   "metadata": {},
   "outputs": [
    {
     "name": "stdout",
     "output_type": "stream",
     "text": [
      "Model 2 : TextBlob\n"
     ]
    },
    {
     "data": {
      "image/png": "[encoded data removed]",
      "text/plain": [
       "<Figure size 432x288 with 1 Axes>"
      ]
     },
     "metadata": {
      "needs_background": "light"
     },
     "output_type": "display_data"
    },
    {
     "name": "stdout",
     "output_type": "stream",
     "text": [
      "Total Tweets : 10824\n",
      "Neutral Tweets : 4115\n",
      "Positive Tweets : 4177\n",
      "Negative Tweets : 2532\n"
     ]
    }
   ],
   "source": [
    "# print('Model 2 : TextBlob')\n",
    "# df['TextBlob_score'].hist(bins=20)\n",
    "# plt.title('Sentiment Histogram')\n",
    "# plt.xlabel('Sentiment Polarity by TextBlob')\n",
    "# plt.show()\n",
    "# print('Total Tweets : ' + str(len(df)))\n",
    "# print('Neutral Tweets : ' + str((df['TextBlob_score'] == 0).sum()))\n",
    "# print('Positive Tweets : ' + str((df['TextBlob_score'] > 0).sum()))\n",
    "# print('Negative Tweets : ' + str((df['TextBlob_score'] < 0).sum()))"
   ]
  },
  {
   "cell_type": "code",
   "execution_count": 36,
   "metadata": {
    "scrolled": true
   },
   "outputs": [
    {
     "name": "stdout",
     "output_type": "stream",
     "text": [
      "Model 3 : Vader\n"
     ]
    },
    {
     "data": {
      "image/png": "[encoded data removed]",
      "text/plain": [
       "<Figure size 432x288 with 1 Axes>"
      ]
     },
     "metadata": {
      "needs_background": "light"
     },
     "output_type": "display_data"
    },
    {
     "name": "stdout",
     "output_type": "stream",
     "text": [
      "Total Tweets : 10824\n",
      "Neutral Tweets : 3645\n",
      "Positive Tweets : 5045\n",
      "Negative Tweets : 2134\n"
     ]
    }
   ],
   "source": [
    "# print('Model 3 : Vader')\n",
    "# df['Vader_score'].hist(bins=20)\n",
    "# plt.title('Sentiment Histogram')\n",
    "# plt.xlabel('Sentiment Polarity by Vader')\n",
    "# plt.show()\n",
    "# print('Total Tweets : ' + str(len(df)))\n",
    "# print('Neutral Tweets : ' + str((df['Vader_score'] == 0).sum()))\n",
    "# print('Positive Tweets : ' + str((df['Vader_score'] > 0).sum()))\n",
    "# print('Negative Tweets : ' + str((df['Vader_score'] < 0).sum()))"
   ]
  },
  {
   "cell_type": "code",
   "execution_count": 37,
   "metadata": {},
   "outputs": [
    {
     "name": "stdout",
     "output_type": "stream",
     "text": [
      "Model 1 : GCP\n"
     ]
    },
    {
     "data": {
      "image/png": "[encoded data removed]",
      "text/plain": [
       "<Figure size 432x288 with 1 Axes>"
      ]
     },
     "metadata": {
      "needs_background": "light"
     },
     "output_type": "display_data"
    },
    {
     "name": "stdout",
     "output_type": "stream",
     "text": [
      "Total Tweets : 10824\n",
      "Neutral Tweets : 3587\n",
      "Positive Tweets : 1438\n",
      "Negative Tweets : 5799\n"
     ]
    }
   ],
   "source": [
    "print('Model 1 : GCP')\n",
    "df['sentiment_score'].hist(bins=20)\n",
    "plt.title('Sentiment Histogram')\n",
    "plt.xlabel('Sentiment scores by GCP NLP')\n",
    "plt.show()\n",
    "print('Total Tweets : ' + str(len(df)))\n",
    "print('Neutral Tweets : ' + str((df['sentiment_score'] == 0).sum()))\n",
    "print('Positive Tweets : ' + str((df['sentiment_score'] > 0).sum()))\n",
    "print('Negative Tweets : ' + str((df['sentiment_score'] < 0).sum()))"
   ]
  },
  {
   "cell_type": "code",
   "execution_count": 34,
   "metadata": {},
   "outputs": [],
   "source": [
    "# df.to_csv('analysis.csv',index=False,encoding='utf-8')"
   ]
  },
  {
   "cell_type": "markdown",
   "metadata": {},
   "source": [
    "## Sample neutral"
   ]
  },
  {
   "cell_type": "code",
   "execution_count": 134,
   "metadata": {},
   "outputs": [
    {
     "data": {
      "text/plain": [
       "{'neg': 0.0, 'neu': 1.0, 'pos': 0.0, 'compound': 0.0}"
      ]
     },
     "execution_count": 134,
     "metadata": {},
     "output_type": "execute_result"
    }
   ],
   "source": [
    "#sentiment = analyzer.polarity_scores('do you think florida should open eligibility for the covid vaccine to all adults')\n",
    "#sentiment"
   ]
  },
  {
   "cell_type": "markdown",
   "metadata": {},
   "source": [
    "## Sample negative"
   ]
  },
  {
   "cell_type": "code",
   "execution_count": 128,
   "metadata": {},
   "outputs": [
    {
     "data": {
      "text/plain": [
       "{'neg': 0.297, 'neu': 0.703, 'pos': 0.0, 'compound': -0.5859}"
      ]
     },
     "execution_count": 128,
     "metadata": {},
     "output_type": "execute_result"
    }
   ],
   "source": [
    "#sentiment = analyzer.polarity_scores('wtf i live in florida and still cannot get the vaccine')\n",
    "#sentiment"
   ]
  },
  {
   "cell_type": "markdown",
   "metadata": {},
   "source": [
    "## Sample positive"
   ]
  },
  {
   "cell_type": "code",
   "execution_count": 135,
   "metadata": {},
   "outputs": [
    {
     "data": {
      "text/plain": [
       "{'neg': 0.0, 'neu': 0.812, 'pos': 0.188, 'compound': 0.5719}"
      ]
     },
     "execution_count": 135,
     "metadata": {},
     "output_type": "execute_result"
    }
   ],
   "source": [
    "#sentiment = analyzer.polarity_scores('i am happy to say as a year old resident of florida i received my first moderna vaccine this morning ')\n",
    "#sentiment"
   ]
  },
  {
   "cell_type": "code",
   "execution_count": null,
   "metadata": {},
   "outputs": [],
   "source": []
  },
  {
   "cell_type": "code",
   "execution_count": null,
   "metadata": {},
   "outputs": [],
   "source": []
  }
 ],
 "metadata": {
  "kernelspec": {
   "display_name": "Python 3",
   "language": "python",
   "name": "python3"
  },
  "language_info": {
   "codemirror_mode": {
    "name": "ipython",
    "version": 3
   },
   "file_extension": ".py",
   "mimetype": "text/x-python",
   "name": "python",
   "nbconvert_exporter": "python",
   "pygments_lexer": "ipython3",
   "version": "3.8.5"
  }
 },
 "nbformat": 4,
 "nbformat_minor": 2
}
