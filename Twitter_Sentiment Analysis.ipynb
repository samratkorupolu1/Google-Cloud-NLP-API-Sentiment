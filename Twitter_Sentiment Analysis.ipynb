{
 "cells": [
  {
   "cell_type": "markdown",
   "metadata": {},
   "source": [
    "# Sentiment Analysis of tweets"
   ]
  },
  {
   "cell_type": "code",
   "execution_count": 1,
   "metadata": {},
   "outputs": [],
   "source": [
    "# pip install tweepy\n",
    "import tweepy\n",
    "import matplotlib.pyplot as plt\n",
    "import seaborn as sns\n",
    "from textblob import TextBlob\n",
    "from textblob.sentiments import NaiveBayesAnalyzer\n",
    "from nltk.sentiment.vader import SentimentIntensityAnalyzer\n",
    "import nltk\n",
    "from string import punctuation\n",
    "from nltk.corpus import stopwords\n",
    "import re\n",
    "import nltk\n",
    "import numpy as np\n",
    "import pandas as pd"
   ]
  },
  {
   "cell_type": "code",
   "execution_count": 2,
   "metadata": {},
   "outputs": [],
   "source": [
    "#nltk.download('vader_lexicon')"
   ]
  },
  {
   "cell_type": "code",
   "execution_count": 4,
   "metadata": {},
   "outputs": [],
   "source": [
    "#Running the python script containing API keys\n",
    "%run C:\\\\Users\\\\korupos\\\\Documents\\\\Sentiment\\\\key.ipynb"
   ]
  },
  {
   "cell_type": "code",
   "execution_count": 6,
   "metadata": {},
   "outputs": [],
   "source": [
    "auth = tweepy.OAuthHandler(consumer_api_key, consumer_api_secret_key)\n",
    "auth.set_access_token(access_token, access_token_secret)\n",
    "api = tweepy.API(auth)\n",
    "api = tweepy.API(auth, wait_on_rate_limit=True, wait_on_rate_limit_notify=True)\n",
    "\n",
    "# The last command prints a message and waits if the rate limit is exceeded\n",
    "# Twitter allows 15 requests per application per 15 minutes"
   ]
  },
  {
   "cell_type": "markdown",
   "metadata": {},
   "source": [
    "## this chunk takes too long to scrape"
   ]
  },
  {
   "cell_type": "code",
   "execution_count": null,
   "metadata": {
    "scrolled": true
   },
   "outputs": [],
   "source": [
    "# df = pd.DataFrame(columns=['screen_name', 'name', 'date_time', 'location', 'text'])\n",
    "# x = \"desantis\"\n",
    "\n",
    "# for tweet in tweepy.Cursor(api.search, q= x, count=1000, result_type=\"recent\",\n",
    "#                            include_entities=True, lang=\"en\").items():\n",
    "#     df = df.append(pd.Series([tweet.user.screen_name, tweet.user.name, tweet.created_at, tweet.user.location, tweet.text], index=df.columns), ignore_index=True)\n",
    "\n",
    "# df.shape #query results stored in 'df' dataframe"
   ]
  },
  {
   "cell_type": "markdown",
   "metadata": {},
   "source": [
    "## This scrapes quickly but have to check max tweets that could be scraped"
   ]
  },
  {
   "cell_type": "code",
   "execution_count": 56,
   "metadata": {},
   "outputs": [
    {
     "data": {
      "text/plain": [
       "(1000, 5)"
      ]
     },
     "execution_count": 56,
     "metadata": {},
     "output_type": "execute_result"
    }
   ],
   "source": [
    "df = pd.DataFrame(columns=['screen_name', 'name', 'date_time', 'location', 'text'])\n",
    "x = \"desantis\"\n",
    "for tweet in tweepy.Cursor(api.search, q=x, lang='en').items(1000):\n",
    "    df = df.append(pd.Series([tweet.user.screen_name, tweet.user.name, tweet.created_at, tweet.user.location, tweet.text], index=df.columns), ignore_index=True)\n",
    "df.shape"
   ]
  },
  {
   "cell_type": "code",
   "execution_count": 57,
   "metadata": {
    "scrolled": true
   },
   "outputs": [
    {
     "data": {
      "text/html": [
       "<div>\n",
       "<style scoped>\n",
       "    .dataframe tbody tr th:only-of-type {\n",
       "        vertical-align: middle;\n",
       "    }\n",
       "\n",
       "    .dataframe tbody tr th {\n",
       "        vertical-align: top;\n",
       "    }\n",
       "\n",
       "    .dataframe thead th {\n",
       "        text-align: right;\n",
       "    }\n",
       "</style>\n",
       "<table border=\"1\" class=\"dataframe\">\n",
       "  <thead>\n",
       "    <tr style=\"text-align: right;\">\n",
       "      <th></th>\n",
       "      <th>text</th>\n",
       "      <th>name</th>\n",
       "      <th>date_time</th>\n",
       "    </tr>\n",
       "  </thead>\n",
       "  <tbody>\n",
       "    <tr>\n",
       "      <th>0</th>\n",
       "      <td>RT @seanhannity: FLORIDA SAYS ‘THANKS’: Govern...</td>\n",
       "      <td>Ruben</td>\n",
       "      <td>2021-05-05 18:14:30</td>\n",
       "    </tr>\n",
       "    <tr>\n",
       "      <th>1</th>\n",
       "      <td>RT @seanhannity: FLORIDA SAYS ‘THANKS’: Govern...</td>\n",
       "      <td>#MAGA</td>\n",
       "      <td>2021-05-05 18:14:30</td>\n",
       "    </tr>\n",
       "    <tr>\n",
       "      <th>2</th>\n",
       "      <td>RT @thebradfordfile: Ron DeSantis is single-ha...</td>\n",
       "      <td>Va</td>\n",
       "      <td>2021-05-05 18:14:27</td>\n",
       "    </tr>\n",
       "    <tr>\n",
       "      <th>3</th>\n",
       "      <td>RT @BioWhiteFemale: @SwainForSenate @GovRonDeS...</td>\n",
       "      <td>Klee</td>\n",
       "      <td>2021-05-05 18:14:26</td>\n",
       "    </tr>\n",
       "    <tr>\n",
       "      <th>4</th>\n",
       "      <td>RT @POLICEINFLA: POLICE/FLORIDA NEWS:  @GovRon...</td>\n",
       "      <td>TheLadyEagle</td>\n",
       "      <td>2021-05-05 18:14:22</td>\n",
       "    </tr>\n",
       "    <tr>\n",
       "      <th>...</th>\n",
       "      <td>...</td>\n",
       "      <td>...</td>\n",
       "      <td>...</td>\n",
       "    </tr>\n",
       "    <tr>\n",
       "      <th>995</th>\n",
       "      <td>RT @seanhannity: FLORIDA SAYS ‘THANKS’: Govern...</td>\n",
       "      <td>Laurie Anne</td>\n",
       "      <td>2021-05-05 17:39:06</td>\n",
       "    </tr>\n",
       "    <tr>\n",
       "      <th>996</th>\n",
       "      <td>RT @Grahmptr: BREAKING : Governor Ron DeSantis...</td>\n",
       "      <td>proud deplorable Jenn</td>\n",
       "      <td>2021-05-05 17:39:06</td>\n",
       "    </tr>\n",
       "    <tr>\n",
       "      <th>997</th>\n",
       "      <td>RT @thebradfordfile: Ron DeSantis is single-ha...</td>\n",
       "      <td>michelle kathryn</td>\n",
       "      <td>2021-05-05 17:39:05</td>\n",
       "    </tr>\n",
       "    <tr>\n",
       "      <th>998</th>\n",
       "      <td>RT: \"Some want to defund the police. We're fun...</td>\n",
       "      <td>Phil Ammann 🙄⌨️🙄</td>\n",
       "      <td>2021-05-05 17:39:03</td>\n",
       "    </tr>\n",
       "    <tr>\n",
       "      <th>999</th>\n",
       "      <td>@wiz_train You didn't read the article you pos...</td>\n",
       "      <td>jack wilde</td>\n",
       "      <td>2021-05-05 17:39:02</td>\n",
       "    </tr>\n",
       "  </tbody>\n",
       "</table>\n",
       "<p>1000 rows × 3 columns</p>\n",
       "</div>"
      ],
      "text/plain": [
       "                                                  text                   name  \\\n",
       "0    RT @seanhannity: FLORIDA SAYS ‘THANKS’: Govern...                  Ruben   \n",
       "1    RT @seanhannity: FLORIDA SAYS ‘THANKS’: Govern...                  #MAGA   \n",
       "2    RT @thebradfordfile: Ron DeSantis is single-ha...                     Va   \n",
       "3    RT @BioWhiteFemale: @SwainForSenate @GovRonDeS...                   Klee   \n",
       "4    RT @POLICEINFLA: POLICE/FLORIDA NEWS:  @GovRon...           TheLadyEagle   \n",
       "..                                                 ...                    ...   \n",
       "995  RT @seanhannity: FLORIDA SAYS ‘THANKS’: Govern...            Laurie Anne   \n",
       "996  RT @Grahmptr: BREAKING : Governor Ron DeSantis...  proud deplorable Jenn   \n",
       "997  RT @thebradfordfile: Ron DeSantis is single-ha...       michelle kathryn   \n",
       "998  RT: \"Some want to defund the police. We're fun...       Phil Ammann 🙄⌨️🙄   \n",
       "999  @wiz_train You didn't read the article you pos...             jack wilde   \n",
       "\n",
       "              date_time  \n",
       "0   2021-05-05 18:14:30  \n",
       "1   2021-05-05 18:14:30  \n",
       "2   2021-05-05 18:14:27  \n",
       "3   2021-05-05 18:14:26  \n",
       "4   2021-05-05 18:14:22  \n",
       "..                  ...  \n",
       "995 2021-05-05 17:39:06  \n",
       "996 2021-05-05 17:39:06  \n",
       "997 2021-05-05 17:39:05  \n",
       "998 2021-05-05 17:39:03  \n",
       "999 2021-05-05 17:39:02  \n",
       "\n",
       "[1000 rows x 3 columns]"
      ]
     },
     "execution_count": 57,
     "metadata": {},
     "output_type": "execute_result"
    }
   ],
   "source": [
    "df[['text', 'name', 'date_time']]"
   ]
  },
  {
   "cell_type": "markdown",
   "metadata": {},
   "source": [
    "## Model 1 : GCP NLP API"
   ]
  },
  {
   "cell_type": "code",
   "execution_count": 13,
   "metadata": {},
   "outputs": [],
   "source": [
    "import os\n",
    "os.environ[\"GOOGLE_APPLICATION_CREDENTIALS\"]= \"C:\\\\Users\\\\korupos\\\\Documents\\\\Sentiment\\\\senti-311518-1b03476e63cd.json\""
   ]
  },
  {
   "cell_type": "code",
   "execution_count": 14,
   "metadata": {},
   "outputs": [],
   "source": [
    "# Imports the Google Cloud client library\n",
    "from google.cloud import language_v1"
   ]
  },
  {
   "cell_type": "code",
   "execution_count": 15,
   "metadata": {},
   "outputs": [],
   "source": [
    "# Instantiates a client\n",
    "client = language_v1.LanguageServiceClient()"
   ]
  },
  {
   "cell_type": "code",
   "execution_count": 58,
   "metadata": {},
   "outputs": [],
   "source": [
    "senti = []\n",
    "for i in df['text']:\n",
    "    text = i\n",
    "    document = language_v1.Document(content=text, type_=language_v1.Document.Type.PLAIN_TEXT)\n",
    "    sentiment = client.analyze_sentiment(request={'document': document}).document_sentiment\n",
    "    senti.append(round(sentiment.score, 2))"
   ]
  },
  {
   "cell_type": "code",
   "execution_count": 59,
   "metadata": {},
   "outputs": [],
   "source": [
    "df['sentiment_score'] = senti"
   ]
  },
  {
   "cell_type": "markdown",
   "metadata": {},
   "source": [
    "## Saved to csv"
   ]
  },
  {
   "cell_type": "code",
   "execution_count": 60,
   "metadata": {},
   "outputs": [],
   "source": [
    "df.to_csv('1000_tweets.csv')"
   ]
  },
  {
   "cell_type": "code",
   "execution_count": 61,
   "metadata": {},
   "outputs": [],
   "source": [
    "pos = df[df.sentiment_score > 0]\n",
    "neg = df[df.sentiment_score < 0]\n",
    "neu = df[df.sentiment_score == 0]"
   ]
  },
  {
   "cell_type": "markdown",
   "metadata": {},
   "source": [
    "## Results"
   ]
  },
  {
   "cell_type": "code",
   "execution_count": 65,
   "metadata": {},
   "outputs": [
    {
     "data": {
      "image/png": "[encoded data removed]",
      "text/plain": [
       "<Figure size 1440x720 with 1 Axes>"
      ]
     },
     "metadata": {},
     "output_type": "display_data"
    }
   ],
   "source": [
    "import matplotlib.pyplot as plt\n",
    "\n",
    "# Pie chart, where the slices will be ordered and plotted counter-clockwise:\n",
    "labels = 'Pos', 'Neg', 'Neu'\n",
    "sizes = [len(pos), len(neg), len(neu)]\n",
    "colors = 'green','brown','grey'\n",
    "\n",
    "explode = (0, 0.05, 0)  # only \"explode\" the 2nd slice (i.e. 'Hogs')\n",
    "\n",
    "fig1, ax1 = plt.subplots(figsize=(20,10))\n",
    "_, _, autopcts = ax1.pie(sizes, explode=explode, labels=labels, colors = colors, autopct='%1.1f%%', shadow=True, startangle=90,\n",
    "       textprops={'fontsize': 20})\n",
    "ax1.axis('equal')  # Equal aspect ratio ensures that pie is drawn as a circle.\n",
    "plt.setp(autopcts, **{'color':'white', 'weight':'bold', 'fontsize':48})\n",
    "ax1.set_title('Sentiment', fontdict={'fontsize': 30})\n",
    "\n",
    "plt.show()"
   ]
  },
  {
   "cell_type": "code",
   "execution_count": 66,
   "metadata": {},
   "outputs": [
    {
     "name": "stderr",
     "output_type": "stream",
     "text": [
      "<ipython-input-66-17f8801a99d5>:1: SettingWithCopyWarning: \n",
      "A value is trying to be set on a copy of a slice from a DataFrame\n",
      "\n",
      "See the caveats in the documentation: https://pandas.pydata.org/pandas-docs/stable/user_guide/indexing.html#returning-a-view-versus-a-copy\n",
      "  pos.sort_values(by=['sentiment_score'], inplace=True, ascending = False)\n",
      "<ipython-input-66-17f8801a99d5>:2: SettingWithCopyWarning: \n",
      "A value is trying to be set on a copy of a slice from a DataFrame\n",
      "\n",
      "See the caveats in the documentation: https://pandas.pydata.org/pandas-docs/stable/user_guide/indexing.html#returning-a-view-versus-a-copy\n",
      "  neg.sort_values(by=['sentiment_score'], inplace=True)\n"
     ]
    }
   ],
   "source": [
    "pos.sort_values(by=['sentiment_score'], inplace=True, ascending = False)\n",
    "neg.sort_values(by=['sentiment_score'], inplace=True)"
   ]
  },
  {
   "cell_type": "code",
   "execution_count": 76,
   "metadata": {},
   "outputs": [
    {
     "data": {
      "text/html": [
       "<div>\n",
       "<style scoped>\n",
       "    .dataframe tbody tr th:only-of-type {\n",
       "        vertical-align: middle;\n",
       "    }\n",
       "\n",
       "    .dataframe tbody tr th {\n",
       "        vertical-align: top;\n",
       "    }\n",
       "\n",
       "    .dataframe thead th {\n",
       "        text-align: right;\n",
       "    }\n",
       "</style>\n",
       "<table border=\"1\" class=\"dataframe\">\n",
       "  <thead>\n",
       "    <tr style=\"text-align: right;\">\n",
       "      <th></th>\n",
       "      <th>text</th>\n",
       "      <th>sentiment_score</th>\n",
       "    </tr>\n",
       "  </thead>\n",
       "  <tbody>\n",
       "    <tr>\n",
       "      <th>109</th>\n",
       "      <td>@GregAbbott_TX Thank you Gov Abbott. I am Flor...</td>\n",
       "      <td>0.9</td>\n",
       "    </tr>\n",
       "    <tr>\n",
       "      <th>101</th>\n",
       "      <td>Wow that's awesome news, thank you for everyth...</td>\n",
       "      <td>0.9</td>\n",
       "    </tr>\n",
       "    <tr>\n",
       "      <th>306</th>\n",
       "      <td>RON DESANTIS- KEEP UP THE GREAT WORK YOU ARE D...</td>\n",
       "      <td>0.9</td>\n",
       "    </tr>\n",
       "    <tr>\n",
       "      <th>927</th>\n",
       "      <td>@michterris @GovernorRon @realJEXITusa @siggyf...</td>\n",
       "      <td>0.8</td>\n",
       "    </tr>\n",
       "    <tr>\n",
       "      <th>65</th>\n",
       "      <td>RT @anthonyc3069: @ABC Desantis has done a gre...</td>\n",
       "      <td>0.7</td>\n",
       "    </tr>\n",
       "    <tr>\n",
       "      <th>231</th>\n",
       "      <td>This is awesome, DeSantis fans!\\n\\nhttps://t.c...</td>\n",
       "      <td>0.6</td>\n",
       "    </tr>\n",
       "    <tr>\n",
       "      <th>334</th>\n",
       "      <td>We will never get to leave this house again. \\...</td>\n",
       "      <td>0.5</td>\n",
       "    </tr>\n",
       "    <tr>\n",
       "      <th>99</th>\n",
       "      <td>@funder Desantis is the best Governor we’ve ha...</td>\n",
       "      <td>0.5</td>\n",
       "    </tr>\n",
       "    <tr>\n",
       "      <th>773</th>\n",
       "      <td>RT @EssenThe: @michterris @GovernorRon @realJE...</td>\n",
       "      <td>0.5</td>\n",
       "    </tr>\n",
       "    <tr>\n",
       "      <th>3</th>\n",
       "      <td>RT @BioWhiteFemale: @SwainForSenate @GovRonDeS...</td>\n",
       "      <td>0.5</td>\n",
       "    </tr>\n",
       "  </tbody>\n",
       "</table>\n",
       "</div>"
      ],
      "text/plain": [
       "                                                  text  sentiment_score\n",
       "109  @GregAbbott_TX Thank you Gov Abbott. I am Flor...              0.9\n",
       "101  Wow that's awesome news, thank you for everyth...              0.9\n",
       "306  RON DESANTIS- KEEP UP THE GREAT WORK YOU ARE D...              0.9\n",
       "927  @michterris @GovernorRon @realJEXITusa @siggyf...              0.8\n",
       "65   RT @anthonyc3069: @ABC Desantis has done a gre...              0.7\n",
       "231  This is awesome, DeSantis fans!\\n\\nhttps://t.c...              0.6\n",
       "334  We will never get to leave this house again. \\...              0.5\n",
       "99   @funder Desantis is the best Governor we’ve ha...              0.5\n",
       "773  RT @EssenThe: @michterris @GovernorRon @realJE...              0.5\n",
       "3    RT @BioWhiteFemale: @SwainForSenate @GovRonDeS...              0.5"
      ]
     },
     "execution_count": 76,
     "metadata": {},
     "output_type": "execute_result"
    }
   ],
   "source": [
    "pos[['text', 'sentiment_score']].head(10)"
   ]
  },
  {
   "cell_type": "code",
   "execution_count": 77,
   "metadata": {},
   "outputs": [
    {
     "data": {
      "text/html": [
       "<div>\n",
       "<style scoped>\n",
       "    .dataframe tbody tr th:only-of-type {\n",
       "        vertical-align: middle;\n",
       "    }\n",
       "\n",
       "    .dataframe tbody tr th {\n",
       "        vertical-align: top;\n",
       "    }\n",
       "\n",
       "    .dataframe thead th {\n",
       "        text-align: right;\n",
       "    }\n",
       "</style>\n",
       "<table border=\"1\" class=\"dataframe\">\n",
       "  <thead>\n",
       "    <tr style=\"text-align: right;\">\n",
       "      <th></th>\n",
       "      <th>text</th>\n",
       "      <th>sentiment_score</th>\n",
       "    </tr>\n",
       "  </thead>\n",
       "  <tbody>\n",
       "    <tr>\n",
       "      <th>361</th>\n",
       "      <td>@Emperor_of_PA Yeah these people have somehow ...</td>\n",
       "      <td>-0.9</td>\n",
       "    </tr>\n",
       "    <tr>\n",
       "      <th>502</th>\n",
       "      <td>RT @OmariJHardy: I would call Desantis's posit...</td>\n",
       "      <td>-0.8</td>\n",
       "    </tr>\n",
       "    <tr>\n",
       "      <th>769</th>\n",
       "      <td>@nikkifried @GovRonDeSantis I highly doubt DeS...</td>\n",
       "      <td>-0.8</td>\n",
       "    </tr>\n",
       "    <tr>\n",
       "      <th>67</th>\n",
       "      <td>RT @OmariJHardy: I would call Desantis's posit...</td>\n",
       "      <td>-0.8</td>\n",
       "    </tr>\n",
       "    <tr>\n",
       "      <th>530</th>\n",
       "      <td>RT @OmariJHardy: Now DeSantis is describing pr...</td>\n",
       "      <td>-0.8</td>\n",
       "    </tr>\n",
       "    <tr>\n",
       "      <th>779</th>\n",
       "      <td>DeSantis is sending a dangerous signal to othe...</td>\n",
       "      <td>-0.8</td>\n",
       "    </tr>\n",
       "    <tr>\n",
       "      <th>624</th>\n",
       "      <td>RT @OmariJHardy: I would call Desantis's posit...</td>\n",
       "      <td>-0.8</td>\n",
       "    </tr>\n",
       "    <tr>\n",
       "      <th>648</th>\n",
       "      <td>DeSantis just gave $1000 bonuses to cops but H...</td>\n",
       "      <td>-0.8</td>\n",
       "    </tr>\n",
       "    <tr>\n",
       "      <th>619</th>\n",
       "      <td>@MaureenMannion2 @PalmerReport DeSantis's repu...</td>\n",
       "      <td>-0.8</td>\n",
       "    </tr>\n",
       "    <tr>\n",
       "      <th>393</th>\n",
       "      <td>@AK4WA They don’t understand how many who didn...</td>\n",
       "      <td>-0.8</td>\n",
       "    </tr>\n",
       "  </tbody>\n",
       "</table>\n",
       "</div>"
      ],
      "text/plain": [
       "                                                  text  sentiment_score\n",
       "361  @Emperor_of_PA Yeah these people have somehow ...             -0.9\n",
       "502  RT @OmariJHardy: I would call Desantis's posit...             -0.8\n",
       "769  @nikkifried @GovRonDeSantis I highly doubt DeS...             -0.8\n",
       "67   RT @OmariJHardy: I would call Desantis's posit...             -0.8\n",
       "530  RT @OmariJHardy: Now DeSantis is describing pr...             -0.8\n",
       "779  DeSantis is sending a dangerous signal to othe...             -0.8\n",
       "624  RT @OmariJHardy: I would call Desantis's posit...             -0.8\n",
       "648  DeSantis just gave $1000 bonuses to cops but H...             -0.8\n",
       "619  @MaureenMannion2 @PalmerReport DeSantis's repu...             -0.8\n",
       "393  @AK4WA They don’t understand how many who didn...             -0.8"
      ]
     },
     "execution_count": 77,
     "metadata": {},
     "output_type": "execute_result"
    }
   ],
   "source": [
    "neg[['text', 'sentiment_score']].head(10)"
   ]
  },
  {
   "cell_type": "markdown",
   "metadata": {},
   "source": [
    "## Tweet Distribution"
   ]
  },
  {
   "cell_type": "code",
   "execution_count": 53,
   "metadata": {},
   "outputs": [
    {
     "name": "stdout",
     "output_type": "stream",
     "text": [
      "Model 1 : GCP\n"
     ]
    },
    {
     "data": {
      "image/png": "[encoded data removed]",
      "text/plain": [
       "<Figure size 432x288 with 1 Axes>"
      ]
     },
     "metadata": {
      "needs_background": "light"
     },
     "output_type": "display_data"
    },
    {
     "name": "stdout",
     "output_type": "stream",
     "text": [
      "Total Tweets : 10824\n",
      "Neutral Tweets : 3587\n",
      "Positive Tweets : 1438\n",
      "Negative Tweets : 5799\n"
     ]
    }
   ],
   "source": [
    "print('Model 1 : GCP')\n",
    "df['sentiment_score'].hist(bins=20)\n",
    "plt.title('Sentiment Histogram')\n",
    "plt.xlabel('Sentiment scores by GCP NLP')\n",
    "plt.show()\n",
    "print('Total Tweets : ' + str(len(df)))\n",
    "print('Neutral Tweets : ' + str((df['sentiment_score'] == 0).sum()))\n",
    "print('Positive Tweets : ' + str((df['sentiment_score'] > 0).sum()))\n",
    "print('Negative Tweets : ' + str((df['sentiment_score'] < 0).sum()))"
   ]
  },
  {
   "cell_type": "code",
   "execution_count": null,
   "metadata": {},
   "outputs": [],
   "source": []
  },
  {
   "cell_type": "code",
   "execution_count": null,
   "metadata": {},
   "outputs": [],
   "source": []
  },
  {
   "cell_type": "code",
   "execution_count": null,
   "metadata": {},
   "outputs": [],
   "source": []
  },
  {
   "cell_type": "code",
   "execution_count": null,
   "metadata": {},
   "outputs": [],
   "source": []
  },
  {
   "cell_type": "code",
   "execution_count": null,
   "metadata": {},
   "outputs": [],
   "source": []
  },
  {
   "cell_type": "markdown",
   "metadata": {},
   "source": [
    "# Ignore below"
   ]
  },
  {
   "cell_type": "markdown",
   "metadata": {},
   "source": [
    "## Cleaning of tweet corpus"
   ]
  },
  {
   "cell_type": "code",
   "execution_count": 25,
   "metadata": {},
   "outputs": [],
   "source": [
    "# blobs = []                #This list holds the cleaned tweets\n",
    "\n",
    "# for i in range(len(df)):\n",
    "#     tweet = df['text'][i]\n",
    "#     tweet = tweet.strip(punctuation).lower()\n",
    "#     tweet = re.sub(r'http\\S+', ' ', tweet)\n",
    "#     tweet = re.sub(r'@\\S+', ' ', tweet)\n",
    "#     tweet = re.sub(r'#', '', tweet)\n",
    "#     tweet = re.sub(r'[^a-z]+', ' ', tweet)\n",
    "#     tweet = re.sub(r'rt', ' ', tweet)\n",
    "    \n",
    "#     blobs.append(tweet)"
   ]
  },
  {
   "cell_type": "markdown",
   "metadata": {},
   "source": [
    "## Model 2 : TextBlob"
   ]
  },
  {
   "cell_type": "code",
   "execution_count": 26,
   "metadata": {},
   "outputs": [],
   "source": [
    "# polarity = []\n",
    "# #subjectivity = []\n",
    "\n",
    "# for i in range(len(blobs)):\n",
    "#     xyz = TextBlob(blobs[i])\n",
    "#     polarity.append(xyz.sentiment.polarity)\n",
    "# #    subjectivity.append(xyz.sentiment.subjectivity)"
   ]
  },
  {
   "cell_type": "code",
   "execution_count": 27,
   "metadata": {},
   "outputs": [],
   "source": [
    "# df['TextBlob_score'] = polarity\n",
    "# #df['subjectivity'] = subjectivity"
   ]
  },
  {
   "cell_type": "code",
   "execution_count": 29,
   "metadata": {
    "scrolled": true
   },
   "outputs": [
    {
     "data": {
      "text/plain": [
       "0.07414199775128084"
      ]
     },
     "execution_count": 29,
     "metadata": {},
     "output_type": "execute_result"
    }
   ],
   "source": [
    "# df['TextBlob_score'].mean()"
   ]
  },
  {
   "cell_type": "markdown",
   "metadata": {},
   "source": [
    "## Model 3 : Vader"
   ]
  },
  {
   "cell_type": "code",
   "execution_count": 30,
   "metadata": {
    "scrolled": true
   },
   "outputs": [],
   "source": [
    "# analyzer = SentimentIntensityAnalyzer()\n",
    "# sentiment = {}\n",
    "# pol = [0]*len(df)\n",
    "    \n",
    "# for i in range(len(df)):\n",
    "#     tweet = df['text'][i]\n",
    "#     sentiment[i] = analyzer.polarity_scores(tweet)\n",
    "#     pol[i] = sentiment[i]['compound']\n",
    "# df['Vader_score'] = pol"
   ]
  },
  {
   "cell_type": "markdown",
   "metadata": {},
   "source": [
    "## Results"
   ]
  },
  {
   "cell_type": "code",
   "execution_count": 35,
   "metadata": {},
   "outputs": [
    {
     "name": "stdout",
     "output_type": "stream",
     "text": [
      "Model 2 : TextBlob\n"
     ]
    },
    {
     "data": {
      "image/png": "[encoded data removed]",
      "text/plain": [
       "<Figure size 432x288 with 1 Axes>"
      ]
     },
     "metadata": {
      "needs_background": "light"
     },
     "output_type": "display_data"
    },
    {
     "name": "stdout",
     "output_type": "stream",
     "text": [
      "Total Tweets : 10824\n",
      "Neutral Tweets : 4115\n",
      "Positive Tweets : 4177\n",
      "Negative Tweets : 2532\n"
     ]
    }
   ],
   "source": [
    "# print('Model 2 : TextBlob')\n",
    "# df['TextBlob_score'].hist(bins=20)\n",
    "# plt.title('Sentiment Histogram')\n",
    "# plt.xlabel('Sentiment Polarity by TextBlob')\n",
    "# plt.show()\n",
    "# print('Total Tweets : ' + str(len(df)))\n",
    "# print('Neutral Tweets : ' + str((df['TextBlob_score'] == 0).sum()))\n",
    "# print('Positive Tweets : ' + str((df['TextBlob_score'] > 0).sum()))\n",
    "# print('Negative Tweets : ' + str((df['TextBlob_score'] < 0).sum()))"
   ]
  },
  {
   "cell_type": "code",
   "execution_count": 36,
   "metadata": {
    "scrolled": true
   },
   "outputs": [
    {
     "name": "stdout",
     "output_type": "stream",
     "text": [
      "Model 3 : Vader\n"
     ]
    },
    {
     "data": {
      "image/png": "[encoded data removed]",
      "text/plain": [
       "<Figure size 432x288 with 1 Axes>"
      ]
     },
     "metadata": {
      "needs_background": "light"
     },
     "output_type": "display_data"
    },
    {
     "name": "stdout",
     "output_type": "stream",
     "text": [
      "Total Tweets : 10824\n",
      "Neutral Tweets : 3645\n",
      "Positive Tweets : 5045\n",
      "Negative Tweets : 2134\n"
     ]
    }
   ],
   "source": [
    "# print('Model 3 : Vader')\n",
    "# df['Vader_score'].hist(bins=20)\n",
    "# plt.title('Sentiment Histogram')\n",
    "# plt.xlabel('Sentiment Polarity by Vader')\n",
    "# plt.show()\n",
    "# print('Total Tweets : ' + str(len(df)))\n",
    "# print('Neutral Tweets : ' + str((df['Vader_score'] == 0).sum()))\n",
    "# print('Positive Tweets : ' + str((df['Vader_score'] > 0).sum()))\n",
    "# print('Negative Tweets : ' + str((df['Vader_score'] < 0).sum()))"
   ]
  },
  {
   "cell_type": "code",
   "execution_count": 37,
   "metadata": {},
   "outputs": [
    {
     "name": "stdout",
     "output_type": "stream",
     "text": [
      "Model 1 : GCP\n"
     ]
    },
    {
     "data": {
      "image/png": "[encoded data removed]",
      "text/plain": [
       "<Figure size 432x288 with 1 Axes>"
      ]
     },
     "metadata": {
      "needs_background": "light"
     },
     "output_type": "display_data"
    },
    {
     "name": "stdout",
     "output_type": "stream",
     "text": [
      "Total Tweets : 10824\n",
      "Neutral Tweets : 3587\n",
      "Positive Tweets : 1438\n",
      "Negative Tweets : 5799\n"
     ]
    }
   ],
   "source": [
    "print('Model 1 : GCP')\n",
    "df['sentiment_score'].hist(bins=20)\n",
    "plt.title('Sentiment Histogram')\n",
    "plt.xlabel('Sentiment scores by GCP NLP')\n",
    "plt.show()\n",
    "print('Total Tweets : ' + str(len(df)))\n",
    "print('Neutral Tweets : ' + str((df['sentiment_score'] == 0).sum()))\n",
    "print('Positive Tweets : ' + str((df['sentiment_score'] > 0).sum()))\n",
    "print('Negative Tweets : ' + str((df['sentiment_score'] < 0).sum()))"
   ]
  },
  {
   "cell_type": "code",
   "execution_count": 34,
   "metadata": {},
   "outputs": [],
   "source": [
    "# df.to_csv('analysis.csv',index=False,encoding='utf-8')"
   ]
  },
  {
   "cell_type": "markdown",
   "metadata": {},
   "source": [
    "## Sample neutral"
   ]
  },
  {
   "cell_type": "code",
   "execution_count": 134,
   "metadata": {},
   "outputs": [
    {
     "data": {
      "text/plain": [
       "{'neg': 0.0, 'neu': 1.0, 'pos': 0.0, 'compound': 0.0}"
      ]
     },
     "execution_count": 134,
     "metadata": {},
     "output_type": "execute_result"
    }
   ],
   "source": [
    "#sentiment = analyzer.polarity_scores('do you think florida should open eligibility for the covid vaccine to all adults')\n",
    "#sentiment"
   ]
  },
  {
   "cell_type": "markdown",
   "metadata": {},
   "source": [
    "## Sample negative"
   ]
  },
  {
   "cell_type": "code",
   "execution_count": 128,
   "metadata": {},
   "outputs": [
    {
     "data": {
      "text/plain": [
       "{'neg': 0.297, 'neu': 0.703, 'pos': 0.0, 'compound': -0.5859}"
      ]
     },
     "execution_count": 128,
     "metadata": {},
     "output_type": "execute_result"
    }
   ],
   "source": [
    "#sentiment = analyzer.polarity_scores('wtf i live in florida and still cannot get the vaccine')\n",
    "#sentiment"
   ]
  },
  {
   "cell_type": "markdown",
   "metadata": {},
   "source": [
    "## Sample positive"
   ]
  },
  {
   "cell_type": "code",
   "execution_count": 135,
   "metadata": {},
   "outputs": [
    {
     "data": {
      "text/plain": [
       "{'neg': 0.0, 'neu': 0.812, 'pos': 0.188, 'compound': 0.5719}"
      ]
     },
     "execution_count": 135,
     "metadata": {},
     "output_type": "execute_result"
    }
   ],
   "source": [
    "#sentiment = analyzer.polarity_scores('i am happy to say as a year old resident of florida i received my first moderna vaccine this morning ')\n",
    "#sentiment"
   ]
  }
 ],
 "metadata": {
  "kernelspec": {
   "display_name": "Python 3",
   "language": "python",
   "name": "python3"
  },
  "language_info": {
   "codemirror_mode": {
    "name": "ipython",
    "version": 3
   },
   "file_extension": ".py",
   "mimetype": "text/x-python",
   "name": "python",
   "nbconvert_exporter": "python",
   "pygments_lexer": "ipython3",
   "version": "3.8.5"
  }
 },
 "nbformat": 4,
 "nbformat_minor": 2
}
